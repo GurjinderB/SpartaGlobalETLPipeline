{
 "cells": [
  {
   "cell_type": "code",
   "execution_count": 50,
   "metadata": {},
   "outputs": [
    {
     "name": "stdout",
     "output_type": "stream",
     "text": [
      "                     Name Psychometrics Presentation\n",
      "0         HILARY WILLMORE        51/100        19/32\n",
      "1             ORLY LORENS        51/100        19/32\n",
      "2          ALVIE BLEACKLY        55/100        16/32\n",
      "3           DECK ITZCHAKI        59/100        21/32\n",
      "4            WILT PENRITT        66/100        25/32\n",
      "5          GIANNA CLEVELY        61/100        16/32\n",
      "6             YVOR PHALIP        59/100        18/32\n",
      "7        MARIELLE KNIVETT        52/100        18/32\n",
      "8         FLORRI LOUGHTON        63/100        28/32\n",
      "9           WALDEN GIDDEN        49/100        25/32\n",
      "10           INGUNNA ADIN        60/100        20/32\n",
      "11         JANAYA MAWFORD        52/100        18/32\n",
      "12          CORNALL OFFER        56/100        26/32\n",
      "13          BRNABY BOWNES        59/100        26/32\n",
      "14        SHERLINE CUDIHY        52/100        16/32\n",
      "15      ANALLISE SCATHARD        62/100        13/32\n",
      "16     BENSON LABUSCHAGNE        64/100        13/32\n",
      "17          NORENE FIERRO        58/100        22/32\n",
      "18          WOODY NEWLING        49/100        21/32\n",
      "19            ANNA BOWNES        45/100        20/32\n",
      "20         LORINE BIGNALL        59/100        17/32\n",
      "21  DEIRDRE VAN DEN VELDE        55/100        19/32\n",
      "22        RUTHE ADOLTHINE        63/100        17/32\n",
      "23            STAR JURGES        54/100        22/32\n",
      "24            STAN FORKAN        56/100        20/32\n",
      "25          JODIE KAYGILL        53/100        17/32\n",
      "26               TIM HUSH        40/100        22/32\n",
      "27       DELINDA CONYBEAR        54/100        18/32\n",
      "28           REAGEN PUDGE        60/100        14/32\n",
      "29         MATTEO YEOWELL        57/100        18/32\n",
      "30         MAYE TARGETTER        45/100        19/32\n",
      "31        CARLOS GERCKENS        56/100        19/32\n",
      "32         NEVIL VIDYAPIN        44/100        22/32\n",
      "33           BLAKE NUNSON        64/100        18/32\n",
      "34           ROSS BEEVORS        48/100        25/32\n",
      "35             SID LIBBIE        59/100        28/32\n"
     ]
    }
   ],
   "source": [
    "import s3_connect as s3\n",
    "import pandas as pd\n",
    "\n",
    "name = s3.select_file_type('.txt')[0]\n",
    "\n",
    "# df = pd.read_csv(s3.get_file(name))\n",
    "\n",
    "# print(s3.select_file_type('.txt')[0])\n",
    "\n",
    "c_obj = s3.s3_connection().get_object(Bucket='data-eng-228-final-project', Key=name)\n",
    "\n",
    "file_string = (c_obj['Body'].read()).decode('utf-8')\n",
    "\n",
    "# Split the data into lines\n",
    "lines = file_string.split('\\n')\n",
    "\n",
    "# Extract the relevant rows\n",
    "rows = [line.strip('\\r') for line in lines if line.strip()]\n",
    "\n",
    "# Split each row into columns\n",
    "data_list = [row.split(' - ') for row in rows]\n",
    "\n",
    "# Create a dictionary with the column names and values\n",
    "columns = ['Name', 'Psychometrics', 'Presentation']\n",
    "data_dict = {column: [] for column in columns}\n",
    "\n",
    "# Parse the values and populate the dictionary\n",
    "for row in data_list[2:]:\n",
    "    name, scores = row[0], row[1]\n",
    "    psychometrics, presentation = scores.split(', ')\n",
    "    data_dict['Name'].append(name)\n",
    "    data_dict['Psychometrics'].append(psychometrics.split(':')[1])\n",
    "    data_dict['Presentation'].append(presentation.split(':')[1])\n",
    "\n",
    "# Create the DataFrame\n",
    "df = pd.DataFrame(data_dict)\n",
    "\n",
    "# Display the DataFrame\n",
    "print(df)\n"
   ]
  }
 ],
 "metadata": {
  "kernelspec": {
   "display_name": "Python 3.8.9 ('venv': venv)",
   "language": "python",
   "name": "python3"
  },
  "language_info": {
   "name": "python",
   "version": "3.8.9"
  },
  "orig_nbformat": 4,
  "vscode": {
   "interpreter": {
    "hash": "8899f9f2636f46b4d6fd1f2cf132b47bec4f5f5868561142c0743ca30a81ba5c"
   }
  }
 },
 "nbformat": 4,
 "nbformat_minor": 2
}
