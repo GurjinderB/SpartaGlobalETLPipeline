{
 "cells": [
  {
   "cell_type": "code",
   "execution_count": 6,
   "metadata": {
    "collapsed": true
   },
   "outputs": [],
   "source": [
    "import boto3\n",
    "import pandas as pd\n",
    "import sqlite3\n",
    "import io\n",
    "\n",
    "db = sqlite3.connect('Sparta_DB')\n",
    "cursor = db.cursor()\n",
    "\n",
    "s3_client = boto3.client('s3')\n",
    "bucket_name = 'data-eng-228-final-project'\n",
    "prefix = 'Academy/'"
   ]
  },
  {
   "cell_type": "markdown",
   "source": [
    "Count of Tables in the Academy file"
   ],
   "metadata": {
    "collapsed": false,
    "pycharm": {
     "name": "#%% md\n"
    }
   }
  },
  {
   "cell_type": "code",
   "execution_count": 4,
   "outputs": [
    {
     "name": "stdout",
     "output_type": "stream",
     "text": [
      "File Count in Academy: 36\n"
     ]
    }
   ],
   "source": [
    "response = s3_client.list_objects_v2(Bucket=bucket_name, Prefix=prefix)\n",
    "\n",
    "files = len(response['Contents'])\n",
    "print(f\"File Count in Academy: {files}\")"
   ],
   "metadata": {
    "collapsed": false,
    "pycharm": {
     "name": "#%%\n"
    }
   }
  },
  {
   "cell_type": "markdown",
   "source": [
    "Transforming the CSV's into Different DataFrames based on their Subject"
   ],
   "metadata": {
    "collapsed": false,
    "pycharm": {
     "name": "#%% md\n"
    }
   }
  },
  {
   "cell_type": "code",
   "execution_count": 7,
   "outputs": [],
   "source": [
    "business = []\n",
    "data = []\n",
    "engineering = []\n",
    "\n",
    "for obj in response['Contents']:\n",
    "    key = obj['Key']\n",
    "    if key.startswith('Academy/B'):\n",
    "        obj = s3_client.get_object(Bucket=bucket_name, Key=key)\n",
    "        df = pd.read_csv(io.BytesIO(obj['Body'].read()))\n",
    "        business.append(df)\n",
    "    elif key.startswith('Academy/D'):\n",
    "        obj = s3_client.get_object(Bucket=bucket_name, Key=key)\n",
    "        df = pd.read_csv(io.BytesIO(obj['Body'].read()))\n",
    "        data.append(df)\n",
    "    elif key.startswith('Academy/E'):\n",
    "        obj = s3_client.get_object(Bucket=bucket_name, Key=key)\n",
    "        df = pd.read_csv(io.BytesIO(obj['Body'].read()))\n",
    "        engineering.append(df)"
   ],
   "metadata": {
    "collapsed": false,
    "pycharm": {
     "name": "#%%\n"
    }
   }
  },
  {
   "cell_type": "markdown",
   "source": [
    "Business DataFrame:"
   ],
   "metadata": {
    "collapsed": false,
    "pycharm": {
     "name": "#%% md\n"
    }
   }
  },
  {
   "cell_type": "code",
   "execution_count": 8,
   "outputs": [
    {
     "data": {
      "text/plain": "                  name       trainer  Analytic_W1  Independent_W1  \\\n0      Quintus Penella  Gregor Gomez            1               2   \n1         Simon Murrey  Gregor Gomez            6               1   \n2          Gustaf Lude  Gregor Gomez            6               4   \n3        Yolanda Fosse  Gregor Gomez            2               1   \n4         Lynnett Swin  Gregor Gomez            2               2   \n..                 ...           ...          ...             ...   \n116        Caril Bayly      Ely Kely            3               3   \n117  Mari Lotterington      Ely Kely            4               1   \n118   Jacquelynn Savin      Ely Kely            1               2   \n119       Ives Weddell      Ely Kely            4               2   \n120       Gerda Yuille      Ely Kely            3               4   \n\n     Determined_W1  Professional_W1  Studious_W1  Imaginative_W1  Analytic_W2  \\\n0                2                1            2               2          NaN   \n1                1                2            4               2          3.0   \n2                1                1            2               3          1.0   \n3                2                3            3               3          4.0   \n4                4                5            1               2          3.0   \n..             ...              ...          ...             ...          ...   \n116              1                2            1               3          1.0   \n117              2                5            3               2          4.0   \n118              5                5            1               2          3.0   \n119              2                2            1               4          3.0   \n120              2                2            3               4          5.0   \n\n     Independent_W2  ...  Determined_W9  Professional_W9  Studious_W9  \\\n0               NaN  ...            NaN              NaN          NaN   \n1               1.0  ...            NaN              NaN          NaN   \n2               1.0  ...            NaN              NaN          NaN   \n3               2.0  ...            NaN              NaN          NaN   \n4               2.0  ...            NaN              NaN          NaN   \n..              ...  ...            ...              ...          ...   \n116             1.0  ...            6.0              7.0          4.0   \n117             1.0  ...            7.0              8.0          5.0   \n118             3.0  ...            8.0              8.0          8.0   \n119             3.0  ...            4.0              6.0          8.0   \n120             5.0  ...            8.0              8.0          8.0   \n\n     Imaginative_W9  Analytic_W10  Independent_W10  Determined_W10  \\\n0               NaN           NaN              NaN             NaN   \n1               NaN           NaN              NaN             NaN   \n2               NaN           NaN              NaN             NaN   \n3               NaN           NaN              NaN             NaN   \n4               NaN           NaN              NaN             NaN   \n..              ...           ...              ...             ...   \n116             8.0           8.0              8.0             8.0   \n117             8.0           8.0              8.0             8.0   \n118             8.0           8.0              8.0             8.0   \n119             6.0           8.0              8.0             8.0   \n120             6.0           8.0              8.0             8.0   \n\n     Professional_W10  Studious_W10  Imaginative_W10  \n0                 NaN           NaN              NaN  \n1                 NaN           NaN              NaN  \n2                 NaN           NaN              NaN  \n3                 NaN           NaN              NaN  \n4                 NaN           NaN              NaN  \n..                ...           ...              ...  \n116               8.0           8.0              8.0  \n117               8.0           8.0              8.0  \n118               8.0           8.0              8.0  \n119               8.0           8.0              8.0  \n120               8.0           8.0              8.0  \n\n[121 rows x 62 columns]",
      "text/html": "<div>\n<style scoped>\n    .dataframe tbody tr th:only-of-type {\n        vertical-align: middle;\n    }\n\n    .dataframe tbody tr th {\n        vertical-align: top;\n    }\n\n    .dataframe thead th {\n        text-align: right;\n    }\n</style>\n<table border=\"1\" class=\"dataframe\">\n  <thead>\n    <tr style=\"text-align: right;\">\n      <th></th>\n      <th>name</th>\n      <th>trainer</th>\n      <th>Analytic_W1</th>\n      <th>Independent_W1</th>\n      <th>Determined_W1</th>\n      <th>Professional_W1</th>\n      <th>Studious_W1</th>\n      <th>Imaginative_W1</th>\n      <th>Analytic_W2</th>\n      <th>Independent_W2</th>\n      <th>...</th>\n      <th>Determined_W9</th>\n      <th>Professional_W9</th>\n      <th>Studious_W9</th>\n      <th>Imaginative_W9</th>\n      <th>Analytic_W10</th>\n      <th>Independent_W10</th>\n      <th>Determined_W10</th>\n      <th>Professional_W10</th>\n      <th>Studious_W10</th>\n      <th>Imaginative_W10</th>\n    </tr>\n  </thead>\n  <tbody>\n    <tr>\n      <th>0</th>\n      <td>Quintus Penella</td>\n      <td>Gregor Gomez</td>\n      <td>1</td>\n      <td>2</td>\n      <td>2</td>\n      <td>1</td>\n      <td>2</td>\n      <td>2</td>\n      <td>NaN</td>\n      <td>NaN</td>\n      <td>...</td>\n      <td>NaN</td>\n      <td>NaN</td>\n      <td>NaN</td>\n      <td>NaN</td>\n      <td>NaN</td>\n      <td>NaN</td>\n      <td>NaN</td>\n      <td>NaN</td>\n      <td>NaN</td>\n      <td>NaN</td>\n    </tr>\n    <tr>\n      <th>1</th>\n      <td>Simon Murrey</td>\n      <td>Gregor Gomez</td>\n      <td>6</td>\n      <td>1</td>\n      <td>1</td>\n      <td>2</td>\n      <td>4</td>\n      <td>2</td>\n      <td>3.0</td>\n      <td>1.0</td>\n      <td>...</td>\n      <td>NaN</td>\n      <td>NaN</td>\n      <td>NaN</td>\n      <td>NaN</td>\n      <td>NaN</td>\n      <td>NaN</td>\n      <td>NaN</td>\n      <td>NaN</td>\n      <td>NaN</td>\n      <td>NaN</td>\n    </tr>\n    <tr>\n      <th>2</th>\n      <td>Gustaf Lude</td>\n      <td>Gregor Gomez</td>\n      <td>6</td>\n      <td>4</td>\n      <td>1</td>\n      <td>1</td>\n      <td>2</td>\n      <td>3</td>\n      <td>1.0</td>\n      <td>1.0</td>\n      <td>...</td>\n      <td>NaN</td>\n      <td>NaN</td>\n      <td>NaN</td>\n      <td>NaN</td>\n      <td>NaN</td>\n      <td>NaN</td>\n      <td>NaN</td>\n      <td>NaN</td>\n      <td>NaN</td>\n      <td>NaN</td>\n    </tr>\n    <tr>\n      <th>3</th>\n      <td>Yolanda Fosse</td>\n      <td>Gregor Gomez</td>\n      <td>2</td>\n      <td>1</td>\n      <td>2</td>\n      <td>3</td>\n      <td>3</td>\n      <td>3</td>\n      <td>4.0</td>\n      <td>2.0</td>\n      <td>...</td>\n      <td>NaN</td>\n      <td>NaN</td>\n      <td>NaN</td>\n      <td>NaN</td>\n      <td>NaN</td>\n      <td>NaN</td>\n      <td>NaN</td>\n      <td>NaN</td>\n      <td>NaN</td>\n      <td>NaN</td>\n    </tr>\n    <tr>\n      <th>4</th>\n      <td>Lynnett Swin</td>\n      <td>Gregor Gomez</td>\n      <td>2</td>\n      <td>2</td>\n      <td>4</td>\n      <td>5</td>\n      <td>1</td>\n      <td>2</td>\n      <td>3.0</td>\n      <td>2.0</td>\n      <td>...</td>\n      <td>NaN</td>\n      <td>NaN</td>\n      <td>NaN</td>\n      <td>NaN</td>\n      <td>NaN</td>\n      <td>NaN</td>\n      <td>NaN</td>\n      <td>NaN</td>\n      <td>NaN</td>\n      <td>NaN</td>\n    </tr>\n    <tr>\n      <th>...</th>\n      <td>...</td>\n      <td>...</td>\n      <td>...</td>\n      <td>...</td>\n      <td>...</td>\n      <td>...</td>\n      <td>...</td>\n      <td>...</td>\n      <td>...</td>\n      <td>...</td>\n      <td>...</td>\n      <td>...</td>\n      <td>...</td>\n      <td>...</td>\n      <td>...</td>\n      <td>...</td>\n      <td>...</td>\n      <td>...</td>\n      <td>...</td>\n      <td>...</td>\n      <td>...</td>\n    </tr>\n    <tr>\n      <th>116</th>\n      <td>Caril Bayly</td>\n      <td>Ely Kely</td>\n      <td>3</td>\n      <td>3</td>\n      <td>1</td>\n      <td>2</td>\n      <td>1</td>\n      <td>3</td>\n      <td>1.0</td>\n      <td>1.0</td>\n      <td>...</td>\n      <td>6.0</td>\n      <td>7.0</td>\n      <td>4.0</td>\n      <td>8.0</td>\n      <td>8.0</td>\n      <td>8.0</td>\n      <td>8.0</td>\n      <td>8.0</td>\n      <td>8.0</td>\n      <td>8.0</td>\n    </tr>\n    <tr>\n      <th>117</th>\n      <td>Mari Lotterington</td>\n      <td>Ely Kely</td>\n      <td>4</td>\n      <td>1</td>\n      <td>2</td>\n      <td>5</td>\n      <td>3</td>\n      <td>2</td>\n      <td>4.0</td>\n      <td>1.0</td>\n      <td>...</td>\n      <td>7.0</td>\n      <td>8.0</td>\n      <td>5.0</td>\n      <td>8.0</td>\n      <td>8.0</td>\n      <td>8.0</td>\n      <td>8.0</td>\n      <td>8.0</td>\n      <td>8.0</td>\n      <td>8.0</td>\n    </tr>\n    <tr>\n      <th>118</th>\n      <td>Jacquelynn Savin</td>\n      <td>Ely Kely</td>\n      <td>1</td>\n      <td>2</td>\n      <td>5</td>\n      <td>5</td>\n      <td>1</td>\n      <td>2</td>\n      <td>3.0</td>\n      <td>3.0</td>\n      <td>...</td>\n      <td>8.0</td>\n      <td>8.0</td>\n      <td>8.0</td>\n      <td>8.0</td>\n      <td>8.0</td>\n      <td>8.0</td>\n      <td>8.0</td>\n      <td>8.0</td>\n      <td>8.0</td>\n      <td>8.0</td>\n    </tr>\n    <tr>\n      <th>119</th>\n      <td>Ives Weddell</td>\n      <td>Ely Kely</td>\n      <td>4</td>\n      <td>2</td>\n      <td>2</td>\n      <td>2</td>\n      <td>1</td>\n      <td>4</td>\n      <td>3.0</td>\n      <td>3.0</td>\n      <td>...</td>\n      <td>4.0</td>\n      <td>6.0</td>\n      <td>8.0</td>\n      <td>6.0</td>\n      <td>8.0</td>\n      <td>8.0</td>\n      <td>8.0</td>\n      <td>8.0</td>\n      <td>8.0</td>\n      <td>8.0</td>\n    </tr>\n    <tr>\n      <th>120</th>\n      <td>Gerda Yuille</td>\n      <td>Ely Kely</td>\n      <td>3</td>\n      <td>4</td>\n      <td>2</td>\n      <td>2</td>\n      <td>3</td>\n      <td>4</td>\n      <td>5.0</td>\n      <td>5.0</td>\n      <td>...</td>\n      <td>8.0</td>\n      <td>8.0</td>\n      <td>8.0</td>\n      <td>6.0</td>\n      <td>8.0</td>\n      <td>8.0</td>\n      <td>8.0</td>\n      <td>8.0</td>\n      <td>8.0</td>\n      <td>8.0</td>\n    </tr>\n  </tbody>\n</table>\n<p>121 rows × 62 columns</p>\n</div>"
     },
     "execution_count": 8,
     "metadata": {},
     "output_type": "execute_result"
    }
   ],
   "source": [
    "business_ = pd.concat(business, ignore_index=True)\n",
    "\n",
    "business_"
   ],
   "metadata": {
    "collapsed": false,
    "pycharm": {
     "name": "#%%\n"
    }
   }
  },
  {
   "cell_type": "markdown",
   "source": [
    "Data DataFrame:"
   ],
   "metadata": {
    "collapsed": false,
    "pycharm": {
     "name": "#%% md\n"
    }
   }
  },
  {
   "cell_type": "code",
   "execution_count": 9,
   "outputs": [
    {
     "data": {
      "text/plain": "                 name        trainer  Analytic_W1  Independent_W1  \\\n0      Pyotr De Zuani  Trixie Orange            1               3   \n1         Vince Scott  Trixie Orange            1               1   \n2      Kellie Althorp  Trixie Orange            3               4   \n3        Aida Bothams  Trixie Orange            4               2   \n4    Nettie Civitillo  Trixie Orange            5               4   \n..                ...            ...          ...             ...   \n132  Gianina Wandless  Trixie Orange            3               1   \n133     Kaitlyn Chagg  Trixie Orange            1               4   \n134  Scotti Bromfield  Trixie Orange            1               1   \n135   Genovera Mattek  Trixie Orange            3               3   \n136   Yorgos O'Rourke  Trixie Orange            1               6   \n\n     Determined_W1  Professional_W1  Studious_W1  Imaginative_W1  Analytic_W2  \\\n0                4                2            2               2          3.0   \n1                4                3            3               4          3.0   \n2                1                1            5               2          2.0   \n3                2                3            3               1          7.0   \n4                3                1            1               6          2.0   \n..             ...              ...          ...             ...          ...   \n132              8                4            4               1          4.0   \n133              2                1            3               3          2.0   \n134              2                6            2               6          3.0   \n135              3                1            5               2          2.0   \n136              3                5            2               5          1.0   \n\n     Independent_W2  ...  Determined_W9  Professional_W9  Studious_W9  \\\n0               1.0  ...            NaN              NaN          NaN   \n1               4.0  ...            NaN              NaN          NaN   \n2               3.0  ...            NaN              NaN          NaN   \n3               6.0  ...            NaN              NaN          NaN   \n4               5.0  ...            NaN              NaN          NaN   \n..              ...  ...            ...              ...          ...   \n132             1.0  ...            NaN              NaN          NaN   \n133             4.0  ...            NaN              NaN          NaN   \n134             7.0  ...            NaN              NaN          NaN   \n135             7.0  ...            NaN              NaN          NaN   \n136             3.0  ...            NaN              NaN          NaN   \n\n     Imaginative_W9  Analytic_W10  Independent_W10  Determined_W10  \\\n0               NaN           NaN              NaN             NaN   \n1               NaN           NaN              NaN             NaN   \n2               NaN           NaN              NaN             NaN   \n3               NaN           NaN              NaN             NaN   \n4               NaN           NaN              NaN             NaN   \n..              ...           ...              ...             ...   \n132             NaN           NaN              NaN             NaN   \n133             NaN           NaN              NaN             NaN   \n134             NaN           NaN              NaN             NaN   \n135             NaN           NaN              NaN             NaN   \n136             NaN           NaN              NaN             NaN   \n\n     Professional_W10  Studious_W10  Imaginative_W10  \n0                 NaN           NaN              NaN  \n1                 NaN           NaN              NaN  \n2                 NaN           NaN              NaN  \n3                 NaN           NaN              NaN  \n4                 NaN           NaN              NaN  \n..                ...           ...              ...  \n132               NaN           NaN              NaN  \n133               NaN           NaN              NaN  \n134               NaN           NaN              NaN  \n135               NaN           NaN              NaN  \n136               NaN           NaN              NaN  \n\n[137 rows x 62 columns]",
      "text/html": "<div>\n<style scoped>\n    .dataframe tbody tr th:only-of-type {\n        vertical-align: middle;\n    }\n\n    .dataframe tbody tr th {\n        vertical-align: top;\n    }\n\n    .dataframe thead th {\n        text-align: right;\n    }\n</style>\n<table border=\"1\" class=\"dataframe\">\n  <thead>\n    <tr style=\"text-align: right;\">\n      <th></th>\n      <th>name</th>\n      <th>trainer</th>\n      <th>Analytic_W1</th>\n      <th>Independent_W1</th>\n      <th>Determined_W1</th>\n      <th>Professional_W1</th>\n      <th>Studious_W1</th>\n      <th>Imaginative_W1</th>\n      <th>Analytic_W2</th>\n      <th>Independent_W2</th>\n      <th>...</th>\n      <th>Determined_W9</th>\n      <th>Professional_W9</th>\n      <th>Studious_W9</th>\n      <th>Imaginative_W9</th>\n      <th>Analytic_W10</th>\n      <th>Independent_W10</th>\n      <th>Determined_W10</th>\n      <th>Professional_W10</th>\n      <th>Studious_W10</th>\n      <th>Imaginative_W10</th>\n    </tr>\n  </thead>\n  <tbody>\n    <tr>\n      <th>0</th>\n      <td>Pyotr De Zuani</td>\n      <td>Trixie Orange</td>\n      <td>1</td>\n      <td>3</td>\n      <td>4</td>\n      <td>2</td>\n      <td>2</td>\n      <td>2</td>\n      <td>3.0</td>\n      <td>1.0</td>\n      <td>...</td>\n      <td>NaN</td>\n      <td>NaN</td>\n      <td>NaN</td>\n      <td>NaN</td>\n      <td>NaN</td>\n      <td>NaN</td>\n      <td>NaN</td>\n      <td>NaN</td>\n      <td>NaN</td>\n      <td>NaN</td>\n    </tr>\n    <tr>\n      <th>1</th>\n      <td>Vince Scott</td>\n      <td>Trixie Orange</td>\n      <td>1</td>\n      <td>1</td>\n      <td>4</td>\n      <td>3</td>\n      <td>3</td>\n      <td>4</td>\n      <td>3.0</td>\n      <td>4.0</td>\n      <td>...</td>\n      <td>NaN</td>\n      <td>NaN</td>\n      <td>NaN</td>\n      <td>NaN</td>\n      <td>NaN</td>\n      <td>NaN</td>\n      <td>NaN</td>\n      <td>NaN</td>\n      <td>NaN</td>\n      <td>NaN</td>\n    </tr>\n    <tr>\n      <th>2</th>\n      <td>Kellie Althorp</td>\n      <td>Trixie Orange</td>\n      <td>3</td>\n      <td>4</td>\n      <td>1</td>\n      <td>1</td>\n      <td>5</td>\n      <td>2</td>\n      <td>2.0</td>\n      <td>3.0</td>\n      <td>...</td>\n      <td>NaN</td>\n      <td>NaN</td>\n      <td>NaN</td>\n      <td>NaN</td>\n      <td>NaN</td>\n      <td>NaN</td>\n      <td>NaN</td>\n      <td>NaN</td>\n      <td>NaN</td>\n      <td>NaN</td>\n    </tr>\n    <tr>\n      <th>3</th>\n      <td>Aida Bothams</td>\n      <td>Trixie Orange</td>\n      <td>4</td>\n      <td>2</td>\n      <td>2</td>\n      <td>3</td>\n      <td>3</td>\n      <td>1</td>\n      <td>7.0</td>\n      <td>6.0</td>\n      <td>...</td>\n      <td>NaN</td>\n      <td>NaN</td>\n      <td>NaN</td>\n      <td>NaN</td>\n      <td>NaN</td>\n      <td>NaN</td>\n      <td>NaN</td>\n      <td>NaN</td>\n      <td>NaN</td>\n      <td>NaN</td>\n    </tr>\n    <tr>\n      <th>4</th>\n      <td>Nettie Civitillo</td>\n      <td>Trixie Orange</td>\n      <td>5</td>\n      <td>4</td>\n      <td>3</td>\n      <td>1</td>\n      <td>1</td>\n      <td>6</td>\n      <td>2.0</td>\n      <td>5.0</td>\n      <td>...</td>\n      <td>NaN</td>\n      <td>NaN</td>\n      <td>NaN</td>\n      <td>NaN</td>\n      <td>NaN</td>\n      <td>NaN</td>\n      <td>NaN</td>\n      <td>NaN</td>\n      <td>NaN</td>\n      <td>NaN</td>\n    </tr>\n    <tr>\n      <th>...</th>\n      <td>...</td>\n      <td>...</td>\n      <td>...</td>\n      <td>...</td>\n      <td>...</td>\n      <td>...</td>\n      <td>...</td>\n      <td>...</td>\n      <td>...</td>\n      <td>...</td>\n      <td>...</td>\n      <td>...</td>\n      <td>...</td>\n      <td>...</td>\n      <td>...</td>\n      <td>...</td>\n      <td>...</td>\n      <td>...</td>\n      <td>...</td>\n      <td>...</td>\n      <td>...</td>\n    </tr>\n    <tr>\n      <th>132</th>\n      <td>Gianina Wandless</td>\n      <td>Trixie Orange</td>\n      <td>3</td>\n      <td>1</td>\n      <td>8</td>\n      <td>4</td>\n      <td>4</td>\n      <td>1</td>\n      <td>4.0</td>\n      <td>1.0</td>\n      <td>...</td>\n      <td>NaN</td>\n      <td>NaN</td>\n      <td>NaN</td>\n      <td>NaN</td>\n      <td>NaN</td>\n      <td>NaN</td>\n      <td>NaN</td>\n      <td>NaN</td>\n      <td>NaN</td>\n      <td>NaN</td>\n    </tr>\n    <tr>\n      <th>133</th>\n      <td>Kaitlyn Chagg</td>\n      <td>Trixie Orange</td>\n      <td>1</td>\n      <td>4</td>\n      <td>2</td>\n      <td>1</td>\n      <td>3</td>\n      <td>3</td>\n      <td>2.0</td>\n      <td>4.0</td>\n      <td>...</td>\n      <td>NaN</td>\n      <td>NaN</td>\n      <td>NaN</td>\n      <td>NaN</td>\n      <td>NaN</td>\n      <td>NaN</td>\n      <td>NaN</td>\n      <td>NaN</td>\n      <td>NaN</td>\n      <td>NaN</td>\n    </tr>\n    <tr>\n      <th>134</th>\n      <td>Scotti Bromfield</td>\n      <td>Trixie Orange</td>\n      <td>1</td>\n      <td>1</td>\n      <td>2</td>\n      <td>6</td>\n      <td>2</td>\n      <td>6</td>\n      <td>3.0</td>\n      <td>7.0</td>\n      <td>...</td>\n      <td>NaN</td>\n      <td>NaN</td>\n      <td>NaN</td>\n      <td>NaN</td>\n      <td>NaN</td>\n      <td>NaN</td>\n      <td>NaN</td>\n      <td>NaN</td>\n      <td>NaN</td>\n      <td>NaN</td>\n    </tr>\n    <tr>\n      <th>135</th>\n      <td>Genovera Mattek</td>\n      <td>Trixie Orange</td>\n      <td>3</td>\n      <td>3</td>\n      <td>3</td>\n      <td>1</td>\n      <td>5</td>\n      <td>2</td>\n      <td>2.0</td>\n      <td>7.0</td>\n      <td>...</td>\n      <td>NaN</td>\n      <td>NaN</td>\n      <td>NaN</td>\n      <td>NaN</td>\n      <td>NaN</td>\n      <td>NaN</td>\n      <td>NaN</td>\n      <td>NaN</td>\n      <td>NaN</td>\n      <td>NaN</td>\n    </tr>\n    <tr>\n      <th>136</th>\n      <td>Yorgos O'Rourke</td>\n      <td>Trixie Orange</td>\n      <td>1</td>\n      <td>6</td>\n      <td>3</td>\n      <td>5</td>\n      <td>2</td>\n      <td>5</td>\n      <td>1.0</td>\n      <td>3.0</td>\n      <td>...</td>\n      <td>NaN</td>\n      <td>NaN</td>\n      <td>NaN</td>\n      <td>NaN</td>\n      <td>NaN</td>\n      <td>NaN</td>\n      <td>NaN</td>\n      <td>NaN</td>\n      <td>NaN</td>\n      <td>NaN</td>\n    </tr>\n  </tbody>\n</table>\n<p>137 rows × 62 columns</p>\n</div>"
     },
     "execution_count": 9,
     "metadata": {},
     "output_type": "execute_result"
    }
   ],
   "source": [
    "data_ = pd.concat(data, ignore_index=True)\n",
    "\n",
    "data_"
   ],
   "metadata": {
    "collapsed": false,
    "pycharm": {
     "name": "#%%\n"
    }
   }
  },
  {
   "cell_type": "markdown",
   "source": [
    "Engineering DataFrame"
   ],
   "metadata": {
    "collapsed": false,
    "pycharm": {
     "name": "#%% md\n"
    }
   }
  },
  {
   "cell_type": "code",
   "execution_count": 10,
   "outputs": [
    {
     "data": {
      "text/plain": "                    name             trainer  Analytic_W1  Independent_W1  \\\n0          Sigrid Veitch        Eshal Brandt            4               4   \n1       Rodrick Henworth        Eshal Brandt            4               4   \n2          Reggie Lawlor        Eshal Brandt            5               2   \n3     Thornton Thuillier        Eshal Brandt            3               5   \n4    Thomasine Poundford        Eshal Brandt            3               2   \n..                   ...                 ...          ...             ...   \n134      Moritz Mosedall  Mohammad Velazquez            1               1   \n135         Chaim Inseal  Mohammad Velazquez            1               3   \n136      Gertruda Syddie  Mohammad Velazquez            3               1   \n137          Thom Derwin  Mohammad Velazquez            3               7   \n138       Godfry Sephton  Mohammad Velazquez            4               2   \n\n     Determined_W1  Professional_W1  Studious_W1  Imaginative_W1  Analytic_W2  \\\n0                3                6            2               2          4.0   \n1                3                3            1               4          1.0   \n2                5                3            3               6          4.0   \n3                4                5            2               1          1.0   \n4                4                1            2               5          2.0   \n..             ...              ...          ...             ...          ...   \n134              5                1            2               6          5.0   \n135              3                4            1               2          3.0   \n136              2                8            1               4          2.0   \n137              3                3            3               1          2.0   \n138              5                1            1               2          4.0   \n\n     Independent_W2  ...  Determined_W9  Professional_W9  Studious_W9  \\\n0               1.0  ...            6.0              8.0          7.0   \n1               1.0  ...            8.0              7.0          8.0   \n2               2.0  ...            8.0              8.0          8.0   \n3               2.0  ...            7.0              7.0          8.0   \n4               2.0  ...            8.0              5.0          8.0   \n..              ...  ...            ...              ...          ...   \n134             3.0  ...            NaN              NaN          NaN   \n135             3.0  ...            NaN              NaN          NaN   \n136             4.0  ...            NaN              NaN          NaN   \n137             7.0  ...            NaN              NaN          NaN   \n138             1.0  ...            NaN              NaN          NaN   \n\n     Imaginative_W9  Analytic_W10  Independent_W10  Determined_W10  \\\n0               8.0           8.0              8.0             8.0   \n1               5.0           8.0              8.0             8.0   \n2               8.0           8.0              8.0             8.0   \n3               8.0           8.0              8.0             8.0   \n4               8.0           8.0              8.0             8.0   \n..              ...           ...              ...             ...   \n134             NaN           NaN              NaN             NaN   \n135             NaN           NaN              NaN             NaN   \n136             NaN           NaN              NaN             NaN   \n137             NaN           NaN              NaN             NaN   \n138             NaN           NaN              NaN             NaN   \n\n     Professional_W10  Studious_W10  Imaginative_W10  \n0                 8.0           7.0              8.0  \n1                 8.0           8.0              8.0  \n2                 8.0           8.0              8.0  \n3                 8.0           7.0              8.0  \n4                 8.0           8.0              8.0  \n..                ...           ...              ...  \n134               NaN           NaN              NaN  \n135               NaN           NaN              NaN  \n136               NaN           NaN              NaN  \n137               NaN           NaN              NaN  \n138               NaN           NaN              NaN  \n\n[139 rows x 62 columns]",
      "text/html": "<div>\n<style scoped>\n    .dataframe tbody tr th:only-of-type {\n        vertical-align: middle;\n    }\n\n    .dataframe tbody tr th {\n        vertical-align: top;\n    }\n\n    .dataframe thead th {\n        text-align: right;\n    }\n</style>\n<table border=\"1\" class=\"dataframe\">\n  <thead>\n    <tr style=\"text-align: right;\">\n      <th></th>\n      <th>name</th>\n      <th>trainer</th>\n      <th>Analytic_W1</th>\n      <th>Independent_W1</th>\n      <th>Determined_W1</th>\n      <th>Professional_W1</th>\n      <th>Studious_W1</th>\n      <th>Imaginative_W1</th>\n      <th>Analytic_W2</th>\n      <th>Independent_W2</th>\n      <th>...</th>\n      <th>Determined_W9</th>\n      <th>Professional_W9</th>\n      <th>Studious_W9</th>\n      <th>Imaginative_W9</th>\n      <th>Analytic_W10</th>\n      <th>Independent_W10</th>\n      <th>Determined_W10</th>\n      <th>Professional_W10</th>\n      <th>Studious_W10</th>\n      <th>Imaginative_W10</th>\n    </tr>\n  </thead>\n  <tbody>\n    <tr>\n      <th>0</th>\n      <td>Sigrid Veitch</td>\n      <td>Eshal Brandt</td>\n      <td>4</td>\n      <td>4</td>\n      <td>3</td>\n      <td>6</td>\n      <td>2</td>\n      <td>2</td>\n      <td>4.0</td>\n      <td>1.0</td>\n      <td>...</td>\n      <td>6.0</td>\n      <td>8.0</td>\n      <td>7.0</td>\n      <td>8.0</td>\n      <td>8.0</td>\n      <td>8.0</td>\n      <td>8.0</td>\n      <td>8.0</td>\n      <td>7.0</td>\n      <td>8.0</td>\n    </tr>\n    <tr>\n      <th>1</th>\n      <td>Rodrick Henworth</td>\n      <td>Eshal Brandt</td>\n      <td>4</td>\n      <td>4</td>\n      <td>3</td>\n      <td>3</td>\n      <td>1</td>\n      <td>4</td>\n      <td>1.0</td>\n      <td>1.0</td>\n      <td>...</td>\n      <td>8.0</td>\n      <td>7.0</td>\n      <td>8.0</td>\n      <td>5.0</td>\n      <td>8.0</td>\n      <td>8.0</td>\n      <td>8.0</td>\n      <td>8.0</td>\n      <td>8.0</td>\n      <td>8.0</td>\n    </tr>\n    <tr>\n      <th>2</th>\n      <td>Reggie Lawlor</td>\n      <td>Eshal Brandt</td>\n      <td>5</td>\n      <td>2</td>\n      <td>5</td>\n      <td>3</td>\n      <td>3</td>\n      <td>6</td>\n      <td>4.0</td>\n      <td>2.0</td>\n      <td>...</td>\n      <td>8.0</td>\n      <td>8.0</td>\n      <td>8.0</td>\n      <td>8.0</td>\n      <td>8.0</td>\n      <td>8.0</td>\n      <td>8.0</td>\n      <td>8.0</td>\n      <td>8.0</td>\n      <td>8.0</td>\n    </tr>\n    <tr>\n      <th>3</th>\n      <td>Thornton Thuillier</td>\n      <td>Eshal Brandt</td>\n      <td>3</td>\n      <td>5</td>\n      <td>4</td>\n      <td>5</td>\n      <td>2</td>\n      <td>1</td>\n      <td>1.0</td>\n      <td>2.0</td>\n      <td>...</td>\n      <td>7.0</td>\n      <td>7.0</td>\n      <td>8.0</td>\n      <td>8.0</td>\n      <td>8.0</td>\n      <td>8.0</td>\n      <td>8.0</td>\n      <td>8.0</td>\n      <td>7.0</td>\n      <td>8.0</td>\n    </tr>\n    <tr>\n      <th>4</th>\n      <td>Thomasine Poundford</td>\n      <td>Eshal Brandt</td>\n      <td>3</td>\n      <td>2</td>\n      <td>4</td>\n      <td>1</td>\n      <td>2</td>\n      <td>5</td>\n      <td>2.0</td>\n      <td>2.0</td>\n      <td>...</td>\n      <td>8.0</td>\n      <td>5.0</td>\n      <td>8.0</td>\n      <td>8.0</td>\n      <td>8.0</td>\n      <td>8.0</td>\n      <td>8.0</td>\n      <td>8.0</td>\n      <td>8.0</td>\n      <td>8.0</td>\n    </tr>\n    <tr>\n      <th>...</th>\n      <td>...</td>\n      <td>...</td>\n      <td>...</td>\n      <td>...</td>\n      <td>...</td>\n      <td>...</td>\n      <td>...</td>\n      <td>...</td>\n      <td>...</td>\n      <td>...</td>\n      <td>...</td>\n      <td>...</td>\n      <td>...</td>\n      <td>...</td>\n      <td>...</td>\n      <td>...</td>\n      <td>...</td>\n      <td>...</td>\n      <td>...</td>\n      <td>...</td>\n      <td>...</td>\n    </tr>\n    <tr>\n      <th>134</th>\n      <td>Moritz Mosedall</td>\n      <td>Mohammad Velazquez</td>\n      <td>1</td>\n      <td>1</td>\n      <td>5</td>\n      <td>1</td>\n      <td>2</td>\n      <td>6</td>\n      <td>5.0</td>\n      <td>3.0</td>\n      <td>...</td>\n      <td>NaN</td>\n      <td>NaN</td>\n      <td>NaN</td>\n      <td>NaN</td>\n      <td>NaN</td>\n      <td>NaN</td>\n      <td>NaN</td>\n      <td>NaN</td>\n      <td>NaN</td>\n      <td>NaN</td>\n    </tr>\n    <tr>\n      <th>135</th>\n      <td>Chaim Inseal</td>\n      <td>Mohammad Velazquez</td>\n      <td>1</td>\n      <td>3</td>\n      <td>3</td>\n      <td>4</td>\n      <td>1</td>\n      <td>2</td>\n      <td>3.0</td>\n      <td>3.0</td>\n      <td>...</td>\n      <td>NaN</td>\n      <td>NaN</td>\n      <td>NaN</td>\n      <td>NaN</td>\n      <td>NaN</td>\n      <td>NaN</td>\n      <td>NaN</td>\n      <td>NaN</td>\n      <td>NaN</td>\n      <td>NaN</td>\n    </tr>\n    <tr>\n      <th>136</th>\n      <td>Gertruda Syddie</td>\n      <td>Mohammad Velazquez</td>\n      <td>3</td>\n      <td>1</td>\n      <td>2</td>\n      <td>8</td>\n      <td>1</td>\n      <td>4</td>\n      <td>2.0</td>\n      <td>4.0</td>\n      <td>...</td>\n      <td>NaN</td>\n      <td>NaN</td>\n      <td>NaN</td>\n      <td>NaN</td>\n      <td>NaN</td>\n      <td>NaN</td>\n      <td>NaN</td>\n      <td>NaN</td>\n      <td>NaN</td>\n      <td>NaN</td>\n    </tr>\n    <tr>\n      <th>137</th>\n      <td>Thom Derwin</td>\n      <td>Mohammad Velazquez</td>\n      <td>3</td>\n      <td>7</td>\n      <td>3</td>\n      <td>3</td>\n      <td>3</td>\n      <td>1</td>\n      <td>2.0</td>\n      <td>7.0</td>\n      <td>...</td>\n      <td>NaN</td>\n      <td>NaN</td>\n      <td>NaN</td>\n      <td>NaN</td>\n      <td>NaN</td>\n      <td>NaN</td>\n      <td>NaN</td>\n      <td>NaN</td>\n      <td>NaN</td>\n      <td>NaN</td>\n    </tr>\n    <tr>\n      <th>138</th>\n      <td>Godfry Sephton</td>\n      <td>Mohammad Velazquez</td>\n      <td>4</td>\n      <td>2</td>\n      <td>5</td>\n      <td>1</td>\n      <td>1</td>\n      <td>2</td>\n      <td>4.0</td>\n      <td>1.0</td>\n      <td>...</td>\n      <td>NaN</td>\n      <td>NaN</td>\n      <td>NaN</td>\n      <td>NaN</td>\n      <td>NaN</td>\n      <td>NaN</td>\n      <td>NaN</td>\n      <td>NaN</td>\n      <td>NaN</td>\n      <td>NaN</td>\n    </tr>\n  </tbody>\n</table>\n<p>139 rows × 62 columns</p>\n</div>"
     },
     "execution_count": 10,
     "metadata": {},
     "output_type": "execute_result"
    }
   ],
   "source": [
    "engineering_ = pd.concat(engineering, ignore_index=True)\n",
    "\n",
    "engineering_"
   ],
   "metadata": {
    "collapsed": false,
    "pycharm": {
     "name": "#%%\n"
    }
   }
  },
  {
   "cell_type": "code",
   "execution_count": null,
   "outputs": [],
   "source": [],
   "metadata": {
    "collapsed": false,
    "pycharm": {
     "name": "#%%\n"
    }
   }
  }
 ],
 "metadata": {
  "kernelspec": {
   "display_name": "Python 3",
   "language": "python",
   "name": "python3"
  },
  "language_info": {
   "codemirror_mode": {
    "name": "ipython",
    "version": 2
   },
   "file_extension": ".py",
   "mimetype": "text/x-python",
   "name": "python",
   "nbconvert_exporter": "python",
   "pygments_lexer": "ipython2",
   "version": "2.7.6"
  }
 },
 "nbformat": 4,
 "nbformat_minor": 0
}