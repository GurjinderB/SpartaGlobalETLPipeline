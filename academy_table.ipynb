{
 "cells": [
  {
   "cell_type": "code",
   "execution_count": null,
   "metadata": {},
   "outputs": [],
   "source": [
    "import boto3\n",
    "from file_extraction import *\n",
    "from to_dataframe import *\n",
    "import pandas as pd\n",
    "import datetime, json"
   ]
  },
  {
   "cell_type": "code",
   "execution_count": null,
   "metadata": {},
   "outputs": [],
   "source": [
    "s3_client = boto3.client('s3')\n",
    "files_dict = {'academy_csv': [], 'json': [], 'txt': [], 'csv': []}"
   ]
  },
  {
   "cell_type": "code",
   "execution_count": null,
   "metadata": {},
   "outputs": [],
   "source": [
    "# extract_file_type(s3_client, 'Talent', files_dict, 'txt')\n",
    "# applicants = files_dict['txt']\n",
    "\n",
    "# txt_df = convert_all_to_df(applicants, 'txt')"
   ]
  },
  {
   "cell_type": "code",
   "execution_count": null,
   "metadata": {},
   "outputs": [],
   "source": [
    "# extract_file_type(s3_client, 'Talent', files_dict, 'json')\n",
    "# applicants = files_dict['json']\n",
    "\n",
    "# json_df = convert_all_to_df(applicants, 'json')\n",
    "\n",
    "# json_df.to_csv('talent_json_all.csv', index=False)"
   ]
  },
  {
   "cell_type": "code",
   "execution_count": null,
   "metadata": {},
   "outputs": [],
   "source": [
    "# json_file = s3_client.get_object(Bucket='data-eng-228-final-project', Key='Talent/10401.json')\n",
    "# json_df = json_to_pd(json_file)\n",
    "# json_df\n"
   ]
  },
  {
   "cell_type": "code",
   "execution_count": null,
   "metadata": {},
   "outputs": [],
   "source": [
    "# extract_file_type(s3_client, 'Talent', files_dict, 'csv')\n",
    "# applicants = files_dict['csv']\n",
    "\n",
    "# csv_df = convert_all_to_df(applicants, 'csv')\n"
   ]
  },
  {
   "cell_type": "code",
   "execution_count": null,
   "metadata": {},
   "outputs": [],
   "source": [
    "# duplicated_names = csv_df[csv_df.duplicated(subset='name', keep=False)]\n",
    "# print(duplicated_names)"
   ]
  },
  {
   "cell_type": "code",
   "execution_count": null,
   "metadata": {},
   "outputs": [],
   "source": [
    "# extract_file_type(s3_client, 'Academy', files_dict, 'csv')\n",
    "# applicants = files_dict['academy_csv']\n",
    "\n",
    "# ac_csv_df = convert_all_to_df(applicants, 'csv')\n",
    "# ac_csv_df"
   ]
  },
  {
   "cell_type": "code",
   "execution_count": null,
   "metadata": {},
   "outputs": [],
   "source": [
    "# duplicated_names = ac_csv_df[ac_csv_df.duplicated(subset='name', keep=False)]\n",
    "# print(duplicated_names)"
   ]
  },
  {
   "cell_type": "code",
   "execution_count": null,
   "metadata": {},
   "outputs": [],
   "source": [
    "# Extract names and dates from the Academy .csv files describing name of the course and date\n",
    "def course_names() -> dict:\n",
    "    course_table = []\n",
    "\n",
    "    # List the objects in the S3 bucket\n",
    "    response = s3_client.list_objects(Bucket=\"data-eng-228-final-project\", Prefix=\"Academy\")\n",
    "\n",
    "    # Iterate through the objects in the S3 bucket\n",
    "    for obj in response['Contents']:\n",
    "        file_key = obj['Key']\n",
    "        \n",
    "        # Extract the course name from the file key\n",
    "        file_name = file_key.split('/')[-1].split('.')[0].split('_')[:2]\n",
    "        course_name = file_name[0] + '_' + file_name[1]\n",
    "        course_group = file_name[0]\n",
    "        course_date = file_key.split('/')[-1].split('.')[0].split('_')[-1:]\n",
    "        course_table.append([course_name, course_group, course_date[0]])\n",
    "    \n",
    "\n",
    "        course_df = pd.DataFrame(course_table, columns=['course_name', 'course_group', 'course_date'])\n",
    "    \n",
    "    return course_df\n",
    "\n",
    "course_names()"
   ]
  },
  {
   "cell_type": "code",
   "execution_count": null,
   "metadata": {},
   "outputs": [],
   "source": [
    "def academy_table():\n",
    "    # Initialize an empty list to store data\n",
    "    course_table = []\n",
    "\n",
    "    # List the objects in the S3 bucket\n",
    "    response = s3_client.list_objects(Bucket=\"data-eng-228-final-project\", Prefix=\"Academy\")\n",
    "\n",
    "    # Iterate through the objects in the S3 bucket\n",
    "    for obj in response['Contents']:\n",
    "        file_key = obj['Key']\n",
    "        \n",
    "        # Extract the course name from the file key\n",
    "        file_name = file_key.split('/')[-1].split('.')[0].split('_')[:2]\n",
    "        course_name = file_name[0] + '_' + file_name[1]\n",
    "        course_group = file_name[0]\n",
    "        course_date = file_key.split('/')[-1].split('.')[0].split('_')[-1:]\n",
    "        \n",
    "        # Read the CSV file from S3 and extract student IDs\n",
    "        csv_object = s3_client.get_object(Bucket=\"data-eng-228-final-project\", Key=file_key)\n",
    "        df = pd.read_csv(csv_object['Body'])\n",
    "        student_ids = df['name'].tolist()\n",
    "        \n",
    "        # Append the data to the list\n",
    "        course_table.extend([(student_id, course_name, course_date[0]) for student_id in student_ids])\n",
    "\n",
    "    # Create the DataFrame\n",
    "    course_df = pd.DataFrame(course_table, columns=['name', 'course_name', 'course_date'])\n",
    "\n",
    "    # Return the DataFrame\n",
    "    return course_df\n",
    "\n",
    "academy_table()\n"
   ]
  },
  {
   "cell_type": "code",
   "execution_count": null,
   "metadata": {},
   "outputs": [],
   "source": [
    "academy_table()"
   ]
  },
  {
   "cell_type": "code",
   "execution_count": null,
   "metadata": {},
   "outputs": [],
   "source": [
    "# Amy's code for courses table\n",
    "def create_courses(dataframe):\n",
    "    courses_df  = dataframe\n",
    "    courses_df = pd.DataFrame().assign(course = courses_df['course_name'], date = courses_df['course_date'])\n",
    "    courses_df['course_id'] = courses_df.groupby(['course']).ngroup()\n",
    "    courses_df = courses_df[['course', 'course_id', 'date']].copy()\n",
    "    courses_df.set_index('course_id', inplace=True)\n",
    "    return courses_df\n",
    "\n",
    "\n",
    "\n",
    "create_courses(course_names())"
   ]
  },
  {
   "cell_type": "code",
   "execution_count": null,
   "metadata": {},
   "outputs": [],
   "source": [
    "courses = create_courses(course_names())\n",
    "talent_all_json = pd.read_csv(\"partial_talent.csv\")\n",
    "\n",
    "def academy_table_df(courses_df, academy_table_df):\n",
    "    academy = []\n",
    "\n",
    "    for index, row in academy_table_df.iterrows():\n",
    "        # Assigning variables to values in candidate table\n",
    "        inv_date = row['date']\n",
    "        interest = row['course_interest']\n",
    "        # 'name' to be changed to 'name_iD' from the candidates table\n",
    "        candidate_id = row['name']\n",
    "        \n",
    "        if row['result'] == 'Pass':\n",
    "            # Setting conditions to choose the courses after candidates invitation date\n",
    "            # Grouping by interest\n",
    "            start_date_condition = courses_df['date'] > inv_date\n",
    "            course_name_condition = courses_df['course'].str.split('_').str[0] == interest\n",
    "            sorted_dates = courses_df[course_name_condition & start_date_condition]\n",
    "            candidate_course = sorted_dates.sort_values('date', ascending=False)\n",
    "            academy.append([candidate_id, candidate_course])\n",
    "            academy_df = pd.DataFrame(academy, columns=['name_id', 'course'])\n",
    "            \n",
    "\n",
    "    # merged_df = pd.merge(courses_df, academy_df, on='course', how='left')\n",
    "    # merged_df.drop('course', axis=1, inplace=True)\n",
    "    # merged_df.rename(columns={'course_id': 'course'}, inplace=True)\n",
    "\n",
    "    return academy\n",
    "\n",
    "\n",
    "print(academy_table_df(courses, talent_all_json))\n",
    "\n",
    "    "
   ]
  }
 ],
 "metadata": {
  "kernelspec": {
   "display_name": "Python 3.8.9 ('venv': venv)",
   "language": "python",
   "name": "python3"
  },
  "language_info": {
   "codemirror_mode": {
    "name": "ipython",
    "version": 3
   },
   "file_extension": ".py",
   "mimetype": "text/x-python",
   "name": "python",
   "nbconvert_exporter": "python",
   "pygments_lexer": "ipython3",
   "version": "3.8.9"
  },
  "orig_nbformat": 4,
  "vscode": {
   "interpreter": {
    "hash": "8899f9f2636f46b4d6fd1f2cf132b47bec4f5f5868561142c0743ca30a81ba5c"
   }
  }
 },
 "nbformat": 4,
 "nbformat_minor": 2
}
